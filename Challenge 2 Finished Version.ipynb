{
 "cells": [
  {
   "cell_type": "code",
   "execution_count": 65,
   "metadata": {},
   "outputs": [
    {
     "name": "stdout",
     "output_type": "stream",
     "text": [
      "Requirement already satisfied: azure-cognitiveservices-vision-customvision in /data/anaconda/envs/py35/lib/python3.5/site-packages (0.4.0)\n",
      "Requirement already satisfied: msrest>=0.5.0 in /data/anaconda/envs/py35/lib/python3.5/site-packages (from azure-cognitiveservices-vision-customvision) (0.5.5)\n",
      "Requirement already satisfied: azure-common~=1.1 in /data/anaconda/envs/py35/lib/python3.5/site-packages (from azure-cognitiveservices-vision-customvision) (1.1.15)\n",
      "Requirement already satisfied: certifi>=2017.4.17 in /data/anaconda/envs/py35/lib/python3.5/site-packages (from msrest>=0.5.0->azure-cognitiveservices-vision-customvision) (2018.8.24)\n",
      "Requirement already satisfied: requests~=2.16 in /data/anaconda/envs/py35/lib/python3.5/site-packages (from msrest>=0.5.0->azure-cognitiveservices-vision-customvision) (2.18.4)\n",
      "Requirement already satisfied: isodate>=0.6.0 in /data/anaconda/envs/py35/lib/python3.5/site-packages (from msrest>=0.5.0->azure-cognitiveservices-vision-customvision) (0.6.0)\n",
      "Requirement already satisfied: requests-oauthlib>=0.5.0 in /data/anaconda/envs/py35/lib/python3.5/site-packages (from msrest>=0.5.0->azure-cognitiveservices-vision-customvision) (1.0.0)\n",
      "Requirement already satisfied: azure-nspkg>=2.0.0 in /data/anaconda/envs/py35/lib/python3.5/site-packages (from azure-common~=1.1->azure-cognitiveservices-vision-customvision) (2.0.0)\n",
      "Requirement already satisfied: idna<2.7,>=2.5 in /data/anaconda/envs/py35/lib/python3.5/site-packages (from requests~=2.16->msrest>=0.5.0->azure-cognitiveservices-vision-customvision) (2.6)\n",
      "Requirement already satisfied: chardet<3.1.0,>=3.0.2 in /data/anaconda/envs/py35/lib/python3.5/site-packages (from requests~=2.16->msrest>=0.5.0->azure-cognitiveservices-vision-customvision) (3.0.4)\n",
      "Requirement already satisfied: urllib3<1.23,>=1.21.1 in /data/anaconda/envs/py35/lib/python3.5/site-packages (from requests~=2.16->msrest>=0.5.0->azure-cognitiveservices-vision-customvision) (1.22)\n",
      "Requirement already satisfied: six in /data/anaconda/envs/py35/lib/python3.5/site-packages (from isodate>=0.6.0->msrest>=0.5.0->azure-cognitiveservices-vision-customvision) (1.11.0)\n",
      "Requirement already satisfied: oauthlib>=0.6.2 in /data/anaconda/envs/py35/lib/python3.5/site-packages (from requests-oauthlib>=0.5.0->msrest>=0.5.0->azure-cognitiveservices-vision-customvision) (2.1.0)\n",
      "\u001b[33mYou are using pip version 18.0, however version 18.1 is available.\n",
      "You should consider upgrading via the 'pip install --upgrade pip' command.\u001b[0m\n"
     ]
    }
   ],
   "source": [
    "import sys\n",
    "!{sys.executable} -m pip install azure-cognitiveservices-vision-customvision\n"
   ]
  },
  {
   "cell_type": "code",
   "execution_count": 2,
   "metadata": {},
   "outputs": [
    {
     "name": "stdout",
     "output_type": "stream",
     "text": [
      "\n",
      "The following command must be run outside of the IPython shell:\n",
      "\n",
      "    $ pip install --upgrade pip\n",
      "\n",
      "The Python package manager (pip) can only be used from outside of IPython.\n",
      "Please reissue the `pip` command in a separate terminal or command prompt.\n",
      "\n",
      "See the Python documentation for more information on how to install packages:\n",
      "\n",
      "    https://docs.python.org/3/installing/\n"
     ]
    }
   ],
   "source": [
    "pip install --upgrade pip"
   ]
  },
  {
   "cell_type": "code",
   "execution_count": 73,
   "metadata": {},
   "outputs": [
    {
     "name": "stdout",
     "output_type": "stream",
     "text": [
      "insulated test\n",
      "\tInsulated: 100.00%\n",
      "\tHardshell: 0.00%\n",
      "hardshell test\n",
      "\tHardshell: 99.95%\n",
      "\tInsulated: 0.05%\n"
     ]
    }
   ],
   "source": [
    "from azure.cognitiveservices.vision.customvision.prediction import CustomVisionPredictionClient\n",
    "\n",
    "# Now there is a trained endpoint that can be used to make a prediction\n",
    "\n",
    "predictor = CustomVisionPredictionClient('19d5d0fe171d4b7ebc65e9d5c62d1c34', endpoint='https://southcentralus.api.cognitive.microsoft.com')\n",
    "                                         \n",
    "\n",
    "projectid='6ae27859-30a1-4458-b8c2-2679eb968408'\n",
    "iterationid='b7547d6f-a499-41f7-ad37-012bc6af8c5a'\n",
    "\n",
    "test_img_url='https://www.rei.com/media/3def3b3e-dccb-4bd3-a4ac-60b45cdcebc6?size=512x682'\n",
    "# results = predictor.predict_image_url(projectid, iterationid, test_img_url)\n",
    "results = predictor.predict_image_url(projectid, url=test_img_url)\n",
    "# results = predictor.predict_image_url('6ae27859-30a1-4458-b8c2-2679eb968408', url='https://www.rei.com/media/3def3b3e-dccb-4bd3-a4ac-60b45cdcebc6?size=512x682')\n",
    "\n",
    "# Display the results.\n",
    "print('insulated test')\n",
    "for prediction in results.predictions:\n",
    "    print (\"\\t\" + prediction.tag_name + \": {0:.2f}%\".format(prediction.probability * 100))\n",
    "    \n",
    "    \n",
    "test_img_url='https://encrypted-tbn0.gstatic.com/images?q=tbn:ANd9GcTzlmYlhKILUm57c97_Yp1FaAtYPICHx1nI2agmuDk86mN0VoWq'\n",
    "# results = predictor.predict_image_url(projectid, iterationid, test_img_url)\n",
    "results = predictor.predict_image_url(projectid, url=test_img_url)\n",
    "# results = predictor.predict_image_url('6ae27859-30a1-4458-b8c2-2679eb968408', url='https://www.rei.com/media/3def3b3e-dccb-4bd3-a4ac-60b45cdcebc6?size=512x682')\n",
    "\n",
    "# Display the results.\n",
    "print('hardshell test')\n",
    "for prediction in results.predictions:\n",
    "    print (\"\\t\" + prediction.tag_name + \": {0:.2f}%\".format(prediction.probability * 100))"
   ]
  },
  {
   "cell_type": "code",
   "execution_count": null,
   "metadata": {},
   "outputs": [],
   "source": []
  }
 ],
 "metadata": {
  "kernelspec": {
   "display_name": "Python 3",
   "language": "python",
   "name": "python3"
  },
  "language_info": {
   "codemirror_mode": {
    "name": "ipython",
    "version": 3
   },
   "file_extension": ".py",
   "mimetype": "text/x-python",
   "name": "python",
   "nbconvert_exporter": "python",
   "pygments_lexer": "ipython3",
   "version": "3.5.5"
  }
 },
 "nbformat": 4,
 "nbformat_minor": 2
}
